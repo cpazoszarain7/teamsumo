{
 "cells": [
  {
   "cell_type": "markdown",
   "metadata": {},
   "source": [
    "# Section 0: Import Libraries"
   ]
  },
  {
   "cell_type": "code",
   "execution_count": 1,
   "metadata": {},
   "outputs": [],
   "source": [
    "import pandas as pd\n",
    "import numpy as np\n",
    "import matplotlib.pyplot as plt\n",
    "import requests\n",
    "import time\n",
    "from sqlalchemy import create_engine, func\n",
    "from sqlalchemy.ext.automap import automap_base\n",
    "from sqlalchemy.orm import Session\n",
    "%matplotlib inline\n",
    "\n",
    "# Import API key\n",
    "from config import gimgkey"
   ]
  },
  {
   "cell_type": "markdown",
   "metadata": {},
   "source": [
    "# Section 1: Build Dataset with API Call"
   ]
  },
  {
   "cell_type": "code",
   "execution_count": 25,
   "metadata": {},
   "outputs": [
    {
     "data": {
      "text/html": [
       "<div>\n",
       "<style scoped>\n",
       "    .dataframe tbody tr th:only-of-type {\n",
       "        vertical-align: middle;\n",
       "    }\n",
       "\n",
       "    .dataframe tbody tr th {\n",
       "        vertical-align: top;\n",
       "    }\n",
       "\n",
       "    .dataframe thead th {\n",
       "        text-align: right;\n",
       "    }\n",
       "</style>\n",
       "<table border=\"1\" class=\"dataframe\">\n",
       "  <thead>\n",
       "    <tr style=\"text-align: right;\">\n",
       "      <th></th>\n",
       "      <th>id</th>\n",
       "      <th>rank</th>\n",
       "      <th>fighter</th>\n",
       "      <th>dojo</th>\n",
       "      <th>district</th>\n",
       "      <th>birth_date</th>\n",
       "      <th>height</th>\n",
       "      <th>weight</th>\n",
       "      <th>lat</th>\n",
       "      <th>lng</th>\n",
       "    </tr>\n",
       "  </thead>\n",
       "  <tbody>\n",
       "    <tr>\n",
       "      <th>0</th>\n",
       "      <td>4095</td>\n",
       "      <td>Y2eHD</td>\n",
       "      <td>Wakanohana</td>\n",
       "      <td>Futagoyama</td>\n",
       "      <td>Aomori</td>\n",
       "      <td>4/3/53</td>\n",
       "      <td>186.0</td>\n",
       "      <td>133.0</td>\n",
       "      <td>43.043111</td>\n",
       "      <td>141.316019</td>\n",
       "    </tr>\n",
       "    <tr>\n",
       "      <th>1</th>\n",
       "      <td>4122</td>\n",
       "      <td>M14e</td>\n",
       "      <td>Kurosegawa</td>\n",
       "      <td>Isegahama</td>\n",
       "      <td>Tokyo</td>\n",
       "      <td>5/13/51</td>\n",
       "      <td>184.0</td>\n",
       "      <td>130.0</td>\n",
       "      <td>32.413809</td>\n",
       "      <td>131.649506</td>\n",
       "    </tr>\n",
       "    <tr>\n",
       "      <th>2</th>\n",
       "      <td>4103</td>\n",
       "      <td>M14w</td>\n",
       "      <td>Banryuyama</td>\n",
       "      <td>Mihogaseki</td>\n",
       "      <td>Hyogo</td>\n",
       "      <td>5/4/51</td>\n",
       "      <td>177.5</td>\n",
       "      <td>135.0</td>\n",
       "      <td>35.495838</td>\n",
       "      <td>136.918181</td>\n",
       "    </tr>\n",
       "    <tr>\n",
       "      <th>3</th>\n",
       "      <td>4050</td>\n",
       "      <td>M8e</td>\n",
       "      <td>Takamiyama</td>\n",
       "      <td>Takasago</td>\n",
       "      <td>U.S.A.</td>\n",
       "      <td>6/16/44</td>\n",
       "      <td>192.0</td>\n",
       "      <td>205.0</td>\n",
       "      <td>34.766101</td>\n",
       "      <td>134.790601</td>\n",
       "    </tr>\n",
       "    <tr>\n",
       "      <th>4</th>\n",
       "      <td>4077</td>\n",
       "      <td>M10w</td>\n",
       "      <td>Fujizakura</td>\n",
       "      <td>Takasago</td>\n",
       "      <td>Yamanashi</td>\n",
       "      <td>2/9/48</td>\n",
       "      <td>180.0</td>\n",
       "      <td>139.0</td>\n",
       "      <td>34.766101</td>\n",
       "      <td>134.790601</td>\n",
       "    </tr>\n",
       "  </tbody>\n",
       "</table>\n",
       "</div>"
      ],
      "text/plain": [
       "     id   rank     fighter        dojo   district birth_date  height  weight  \\\n",
       "0  4095  Y2eHD  Wakanohana  Futagoyama     Aomori     4/3/53   186.0   133.0   \n",
       "1  4122   M14e  Kurosegawa   Isegahama      Tokyo    5/13/51   184.0   130.0   \n",
       "2  4103   M14w  Banryuyama  Mihogaseki      Hyogo     5/4/51   177.5   135.0   \n",
       "3  4050    M8e  Takamiyama    Takasago     U.S.A.    6/16/44   192.0   205.0   \n",
       "4  4077   M10w  Fujizakura    Takasago  Yamanashi     2/9/48   180.0   139.0   \n",
       "\n",
       "         lat         lng  \n",
       "0  43.043111  141.316019  \n",
       "1  32.413809  131.649506  \n",
       "2  35.495838  136.918181  \n",
       "3  34.766101  134.790601  \n",
       "4  34.766101  134.790601  "
      ]
     },
     "execution_count": 25,
     "metadata": {},
     "output_type": "execute_result"
    }
   ],
   "source": [
    "# Read stables.csv to get list of fighters\n",
    "df = pd.read_csv('Stables.csv')\n",
    "df.head()"
   ]
  },
  {
   "cell_type": "code",
   "execution_count": 38,
   "metadata": {},
   "outputs": [
    {
     "data": {
      "text/plain": [
       "0    Wakanohana\n",
       "1    Kurosegawa\n",
       "2    Banryuyama\n",
       "3    Takamiyama\n",
       "4    Fujizakura\n",
       "Name: fighter, dtype: object"
      ]
     },
     "execution_count": 38,
     "metadata": {},
     "output_type": "execute_result"
    }
   ],
   "source": [
    "fighter_names = df['fighter']\n",
    "fighter_names.head()"
   ]
  },
  {
   "cell_type": "code",
   "execution_count": 39,
   "metadata": {},
   "outputs": [
    {
     "data": {
      "text/plain": [
       "331"
      ]
     },
     "execution_count": 39,
     "metadata": {},
     "output_type": "execute_result"
    }
   ],
   "source": [
    "len(fighter_names)"
   ]
  },
  {
   "cell_type": "code",
   "execution_count": 46,
   "metadata": {},
   "outputs": [],
   "source": [
    "fighter_img = pd.DataFrame({'fighter_name':fighter_names})"
   ]
  },
  {
   "cell_type": "code",
   "execution_count": 48,
   "metadata": {},
   "outputs": [
    {
     "data": {
      "text/html": [
       "<div>\n",
       "<style scoped>\n",
       "    .dataframe tbody tr th:only-of-type {\n",
       "        vertical-align: middle;\n",
       "    }\n",
       "\n",
       "    .dataframe tbody tr th {\n",
       "        vertical-align: top;\n",
       "    }\n",
       "\n",
       "    .dataframe thead th {\n",
       "        text-align: right;\n",
       "    }\n",
       "</style>\n",
       "<table border=\"1\" class=\"dataframe\">\n",
       "  <thead>\n",
       "    <tr style=\"text-align: right;\">\n",
       "      <th></th>\n",
       "      <th>fighter_name</th>\n",
       "    </tr>\n",
       "  </thead>\n",
       "  <tbody>\n",
       "    <tr>\n",
       "      <th>0</th>\n",
       "      <td>Wakanohana</td>\n",
       "    </tr>\n",
       "    <tr>\n",
       "      <th>1</th>\n",
       "      <td>Kurosegawa</td>\n",
       "    </tr>\n",
       "    <tr>\n",
       "      <th>2</th>\n",
       "      <td>Banryuyama</td>\n",
       "    </tr>\n",
       "    <tr>\n",
       "      <th>3</th>\n",
       "      <td>Takamiyama</td>\n",
       "    </tr>\n",
       "    <tr>\n",
       "      <th>4</th>\n",
       "      <td>Fujizakura</td>\n",
       "    </tr>\n",
       "  </tbody>\n",
       "</table>\n",
       "</div>"
      ],
      "text/plain": [
       "  fighter_name\n",
       "0   Wakanohana\n",
       "1   Kurosegawa\n",
       "2   Banryuyama\n",
       "3   Takamiyama\n",
       "4   Fujizakura"
      ]
     },
     "execution_count": 48,
     "metadata": {},
     "output_type": "execute_result"
    }
   ],
   "source": [
    "fighter_img.head()"
   ]
  },
  {
   "cell_type": "code",
   "execution_count": 49,
   "metadata": {},
   "outputs": [],
   "source": [
    "#Perform API Call\n",
    "\n",
    "#Create needed columns to store data for each fighter_image\n",
    "fighter_img['img_url'] =''\n",
    "\n",
    "#Perform API call to get information for each stable\n",
    "base_url = 'https://app.zenserp.com/api/v2/search'\n",
    "\n",
    "params = {\"apikey\": gimgkey, 'tbm':'isch','num':'1'}\n",
    "\n",
    "#Iterate through the list of fighetrs to retrieve their information\n",
    "for i, row in fighter_img.iterrows():\n",
    "    \n",
    "    params['q'] = row['fighter_name']\n",
    "\n",
    "    response = requests.get(base_url,params=params).json()\n",
    "    \n",
    "    try:\n",
    "        fighter_img.loc[i,'img_url']= response['image_results'][0]['sourceUrl']\n",
    "        \n",
    "    except:\n",
    "        #Assign NaN to Fighters not found\n",
    "        fighter_img.loc[i,'img_url']= np.nan\n",
    "    \n",
    "\n"
   ]
  },
  {
   "cell_type": "code",
   "execution_count": 52,
   "metadata": {},
   "outputs": [
    {
     "data": {
      "text/html": [
       "<div>\n",
       "<style scoped>\n",
       "    .dataframe tbody tr th:only-of-type {\n",
       "        vertical-align: middle;\n",
       "    }\n",
       "\n",
       "    .dataframe tbody tr th {\n",
       "        vertical-align: top;\n",
       "    }\n",
       "\n",
       "    .dataframe thead th {\n",
       "        text-align: right;\n",
       "    }\n",
       "</style>\n",
       "<table border=\"1\" class=\"dataframe\">\n",
       "  <thead>\n",
       "    <tr style=\"text-align: right;\">\n",
       "      <th></th>\n",
       "      <th>fighter_name</th>\n",
       "      <th>img_url</th>\n",
       "    </tr>\n",
       "  </thead>\n",
       "  <tbody>\n",
       "    <tr>\n",
       "      <th>0</th>\n",
       "      <td>Wakanohana</td>\n",
       "      <td>https://upload.wikimedia.org/wikipedia/commons...</td>\n",
       "    </tr>\n",
       "    <tr>\n",
       "      <th>1</th>\n",
       "      <td>Kurosegawa</td>\n",
       "      <td>https://upload.wikimedia.org/wikipedia/commons...</td>\n",
       "    </tr>\n",
       "    <tr>\n",
       "      <th>2</th>\n",
       "      <td>Banryuyama</td>\n",
       "      <td>http://www.sumoforum.net/tegata/imgdir/banryuy...</td>\n",
       "    </tr>\n",
       "    <tr>\n",
       "      <th>3</th>\n",
       "      <td>Takamiyama</td>\n",
       "      <td>https://images-na.ssl-images-amazon.com/images...</td>\n",
       "    </tr>\n",
       "    <tr>\n",
       "      <th>4</th>\n",
       "      <td>Fujizakura</td>\n",
       "      <td>http://cdn.shopify.com/s/files/1/0098/8391/020...</td>\n",
       "    </tr>\n",
       "  </tbody>\n",
       "</table>\n",
       "</div>"
      ],
      "text/plain": [
       "  fighter_name                                            img_url\n",
       "0   Wakanohana  https://upload.wikimedia.org/wikipedia/commons...\n",
       "1   Kurosegawa  https://upload.wikimedia.org/wikipedia/commons...\n",
       "2   Banryuyama  http://www.sumoforum.net/tegata/imgdir/banryuy...\n",
       "3   Takamiyama  https://images-na.ssl-images-amazon.com/images...\n",
       "4   Fujizakura  http://cdn.shopify.com/s/files/1/0098/8391/020..."
      ]
     },
     "execution_count": 52,
     "metadata": {},
     "output_type": "execute_result"
    }
   ],
   "source": [
    "fighter_img.head()"
   ]
  },
  {
   "cell_type": "code",
   "execution_count": 53,
   "metadata": {},
   "outputs": [],
   "source": [
    "fighter_img.to_csv('fighter_img.csv',index=False)"
   ]
  },
  {
   "cell_type": "markdown",
   "metadata": {},
   "source": [
    "# Section 2: Write to Postgres DB"
   ]
  },
  {
   "cell_type": "code",
   "execution_count": 6,
   "metadata": {},
   "outputs": [],
   "source": [
    "fighter_img = pd.read_csv('fighter_img.csv')"
   ]
  },
  {
   "cell_type": "code",
   "execution_count": 7,
   "metadata": {},
   "outputs": [
    {
     "data": {
      "text/html": [
       "<div>\n",
       "<style scoped>\n",
       "    .dataframe tbody tr th:only-of-type {\n",
       "        vertical-align: middle;\n",
       "    }\n",
       "\n",
       "    .dataframe tbody tr th {\n",
       "        vertical-align: top;\n",
       "    }\n",
       "\n",
       "    .dataframe thead th {\n",
       "        text-align: right;\n",
       "    }\n",
       "</style>\n",
       "<table border=\"1\" class=\"dataframe\">\n",
       "  <thead>\n",
       "    <tr style=\"text-align: right;\">\n",
       "      <th></th>\n",
       "      <th>fighter_name</th>\n",
       "      <th>image_url</th>\n",
       "    </tr>\n",
       "  </thead>\n",
       "  <tbody>\n",
       "    <tr>\n",
       "      <th>0</th>\n",
       "      <td>Wakanohana</td>\n",
       "      <td>https://upload.wikimedia.org/wikipedia/commons...</td>\n",
       "    </tr>\n",
       "    <tr>\n",
       "      <th>1</th>\n",
       "      <td>Kurosegawa</td>\n",
       "      <td>https://upload.wikimedia.org/wikipedia/commons...</td>\n",
       "    </tr>\n",
       "    <tr>\n",
       "      <th>2</th>\n",
       "      <td>Banryuyama</td>\n",
       "      <td>http://www.sumoforum.net/tegata/imgdir/banryuy...</td>\n",
       "    </tr>\n",
       "    <tr>\n",
       "      <th>3</th>\n",
       "      <td>Takamiyama</td>\n",
       "      <td>https://images-na.ssl-images-amazon.com/images...</td>\n",
       "    </tr>\n",
       "    <tr>\n",
       "      <th>4</th>\n",
       "      <td>Fujizakura</td>\n",
       "      <td>http://cdn.shopify.com/s/files/1/0098/8391/020...</td>\n",
       "    </tr>\n",
       "  </tbody>\n",
       "</table>\n",
       "</div>"
      ],
      "text/plain": [
       "  fighter_name                                          image_url\n",
       "0   Wakanohana  https://upload.wikimedia.org/wikipedia/commons...\n",
       "1   Kurosegawa  https://upload.wikimedia.org/wikipedia/commons...\n",
       "2   Banryuyama  http://www.sumoforum.net/tegata/imgdir/banryuy...\n",
       "3   Takamiyama  https://images-na.ssl-images-amazon.com/images...\n",
       "4   Fujizakura  http://cdn.shopify.com/s/files/1/0098/8391/020..."
      ]
     },
     "execution_count": 7,
     "metadata": {},
     "output_type": "execute_result"
    }
   ],
   "source": [
    "fighter_img.head()"
   ]
  },
  {
   "cell_type": "code",
   "execution_count": 8,
   "metadata": {},
   "outputs": [],
   "source": [
    "#Connect to Postgress\n",
    "rds_connection_string = \"carlospazos@127.0.0.1:5432/sumo_db\"\n",
    "engine = create_engine(f'postgresql://{rds_connection_string}')"
   ]
  },
  {
   "cell_type": "code",
   "execution_count": 9,
   "metadata": {},
   "outputs": [
    {
     "data": {
      "text/plain": [
       "['tournament_results', 'stables', 'image']"
      ]
     },
     "execution_count": 9,
     "metadata": {},
     "output_type": "execute_result"
    }
   ],
   "source": [
    "engine.table_names()"
   ]
  },
  {
   "cell_type": "code",
   "execution_count": 10,
   "metadata": {},
   "outputs": [],
   "source": [
    "#Insert dataframes into Postgress DB\n",
    "fighter_img.to_sql(name='image', con=engine, if_exists='append', index=False)"
   ]
  },
  {
   "cell_type": "code",
   "execution_count": null,
   "metadata": {},
   "outputs": [],
   "source": []
  }
 ],
 "metadata": {
  "kernelspec": {
   "display_name": "Python 3",
   "language": "python",
   "name": "python3"
  },
  "language_info": {
   "codemirror_mode": {
    "name": "ipython",
    "version": 3
   },
   "file_extension": ".py",
   "mimetype": "text/x-python",
   "name": "python",
   "nbconvert_exporter": "python",
   "pygments_lexer": "ipython3",
   "version": "3.8.3"
  }
 },
 "nbformat": 4,
 "nbformat_minor": 4
}
